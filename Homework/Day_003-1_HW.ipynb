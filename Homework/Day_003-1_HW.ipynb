{
 "cells": [
  {
   "cell_type": "code",
   "execution_count": 13,
   "metadata": {},
   "outputs": [],
   "source": [
    "import pandas as pd\n",
    "import numpy as np"
   ]
  },
  {
   "cell_type": "code",
   "execution_count": 31,
   "metadata": {},
   "outputs": [],
   "source": [
    "cities = ['taiwan', 'united states', 'thailand']\n",
    "population = [3000000, 50000000, 700000000]\n",
    "\n",
    "list_labels = ['city', 'population']\n",
    "list_cols = [cities, population]\n",
    "\n",
    "zipped = list(zip(list_labels, list_cols))"
   ]
  },
  {
   "cell_type": "code",
   "execution_count": 32,
   "metadata": {},
   "outputs": [
    {
     "name": "stdout",
     "output_type": "stream",
     "text": [
      "            city  population\n",
      "0         taiwan     3000000\n",
      "1  united states    50000000\n",
      "2       thailand   700000000\n"
     ]
    }
   ],
   "source": [
    "a = pd.DataFrame(dict(zipped))\n",
    "print(a)"
   ]
  },
  {
   "cell_type": "code",
   "execution_count": 33,
   "metadata": {},
   "outputs": [],
   "source": [
    "import pandas as pd\n",
    "import numpy as np"
   ]
  },
  {
   "cell_type": "code",
   "execution_count": 37,
   "metadata": {},
   "outputs": [],
   "source": [
    "data = {'cities': ['taiwan', 'united states', 'thailand'],\n",
    "        'population': [3000000, 50000000, 700000000]}\n",
    "\n",
    "#Examples\n",
    "#data = {'weekday': ['Sun', 'Sun', 'Mon', 'Mon'],\n",
    "#        'city': ['Austin', 'Dallas', 'Austin', 'Dallas'],\n",
    "#        'visitor': [139, 237, 326, 456]}"
   ]
  },
  {
   "cell_type": "code",
   "execution_count": 48,
   "metadata": {},
   "outputs": [
    {
     "name": "stdout",
     "output_type": "stream",
     "text": [
      "          cities  population\n",
      "0         taiwan     3000000\n",
      "1  united states    50000000\n",
      "2       thailand   700000000\n"
     ]
    }
   ],
   "source": [
    "population = pd.DataFrame(data)\n",
    "print(population)\n",
    "\n",
    "#visitors_1 = pd.DataFrame(data)\n",
    "#print(visitors_1)"
   ]
  }
 ],
 "metadata": {
  "kernelspec": {
   "display_name": "Python 3",
   "language": "python",
   "name": "python3"
  },
  "language_info": {
   "codemirror_mode": {
    "name": "ipython",
    "version": 3
   },
   "file_extension": ".py",
   "mimetype": "text/x-python",
   "name": "python",
   "nbconvert_exporter": "python",
   "pygments_lexer": "ipython3",
   "version": "3.7.1"
  }
 },
 "nbformat": 4,
 "nbformat_minor": 2
}
